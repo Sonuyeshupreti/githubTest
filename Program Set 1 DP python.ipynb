{
 "cells": [
  {
   "cell_type": "markdown",
   "id": "1cda5cfe",
   "metadata": {},
   "source": [
    "Q.No.1. What data type is each of the following?\n",
    "\n",
    " a. 5 => integer\n",
    " b. 5.0 => float\n",
    " c. 5>1 => bool\n",
    " d. \"5\" => string\n",
    " e. 5*2 => integer\n",
    " f. \"5\"*2 =>string\n",
    " g. \"5\" + \"2\" => string\n",
    " h. 5/2 => float\n",
    " i. 5%2 => integer\n",
    " j. {5,2,1} => array\n",
    " k. 5==3 => boolean\n",
    " l. pi(the number) => float\n"
   ]
  },
  {
   "cell_type": "markdown",
   "id": "08947800",
   "metadata": {},
   "source": [
    "Q.No.2. Write (and evaluate) C# expressions that answer these questions:\n",
    "        a. How many letters are there in 'Supercalifragilisticexpialidocious'?"
   ]
  },
  {
   "cell_type": "code",
   "execution_count": 4,
   "id": "8aa2cf38",
   "metadata": {},
   "outputs": [
    {
     "name": "stdout",
     "output_type": "stream",
     "text": [
      "There are 34 letters in Supercalifragilisticexpialidocious.\n"
     ]
    }
   ],
   "source": [
    "\n",
    "string = 'Supercalifragilisticexpialidocious';\n",
    "length = len(string);\n",
    "print(\"There are\" ,length, \"letters in Supercalifragilisticexpialidocious.\")"
   ]
  },
  {
   "cell_type": "markdown",
   "id": "774691ac",
   "metadata": {},
   "source": [
    "       b.Does 'Supercalifragilisticexpialidocious' contain 'ice' as a substring?"
   ]
  },
  {
   "cell_type": "code",
   "execution_count": 5,
   "id": "7ddc9011",
   "metadata": {},
   "outputs": [
    {
     "name": "stdout",
     "output_type": "stream",
     "text": [
      "True\n"
     ]
    }
   ],
   "source": [
    "string1 = 'Supercalifragilisticexpialidocious';\n",
    "if 'ice' in string1:\n",
    "    print(\"True\")\n",
    "else:\n",
    "    print(\"False\")"
   ]
  },
  {
   "cell_type": "markdown",
   "id": "f9b0dbd8",
   "metadata": {},
   "source": [
    "c. Which of the following words is the longest:\n",
    "   Supercalifragilisticexpialidocious, Honorificabilitudinitatibus, or\n",
    "   Bababadalgharaghtakamminarronnkonn?\n"
   ]
  },
  {
   "cell_type": "code",
   "execution_count": 6,
   "id": "112ff13e",
   "metadata": {},
   "outputs": [
    {
     "name": "stdout",
     "output_type": "stream",
     "text": [
      "Supercalifragilisticexpialidocious is longest word\n"
     ]
    }
   ],
   "source": [
    "string1 = 'Supercalifragilisticexpialidocious';\n",
    "string2 = 'Honorificabilitudinitatibus';\n",
    "string3 = 'Bababadalgharaghtakamminarronnkonn';\n",
    "if len(string1) >= len(string2) and len(string1) >=len(string3):\n",
    "    print('Supercalifragilisticexpialidocious is longest word')\n",
    "    \n",
    "elif len(string2) >= len(string1) and len(string2) >= len(string3):\n",
    "    print('Honorificabilitudinitatibus is longest word')\n",
    "    \n",
    "else:\n",
    "    print('Bababadalgharaghtakamminarronnkonn is longest word')"
   ]
  },
  {
   "cell_type": "markdown",
   "id": "c11a4e8a",
   "metadata": {},
   "source": [
    "d. Which composer comes first in the dictionary: 'Berlioz', 'Borodin', 'Brian',\n",
    "  'Bartok', 'Bellini', 'Buxtehude', 'Bernstein'. Which one comes last?\n"
   ]
  },
  {
   "cell_type": "code",
   "execution_count": 7,
   "id": "ea23cac1",
   "metadata": {},
   "outputs": [
    {
     "name": "stdout",
     "output_type": "stream",
     "text": [
      "Bartok comes first in the dictionary.\n",
      "Buxtehude comes last in the dictionary.\n"
     ]
    }
   ],
   "source": [
    "composersDictionary = ['Berlioz', 'Borodin','Brian', 'Bartok', 'Bellini', 'Buxtehude', 'Bernstein']\n",
    "composersDictionary.sort() \n",
    "print(composersDictionary[0], \"comes first in the dictionary.\")\n",
    "print(composersDictionary[6], \"comes last in the dictionary.\")"
   ]
  },
  {
   "cell_type": "markdown",
   "id": "2503de4e",
   "metadata": {},
   "source": [
    "Q.No.3 \n",
    "Implement function triangleArea(a,b,c) that takes as input the lengths of the 3\n",
    "sides of a triangle and returns the area of the triangle. By Heron's formula, the area\n",
    "of a triangle with side lengths a, b, and c is s(s − a)(s −b)(s −c), where\n",
    "s = (a + b + c)/2.\n",
    "\n"
   ]
  },
  {
   "cell_type": "code",
   "execution_count": 8,
   "id": "b2fba471",
   "metadata": {},
   "outputs": [
    {
     "name": "stdout",
     "output_type": "stream",
     "text": [
      "Enter length of one side:2\n",
      "Enter length of second side:2\n",
      "Enter length of third side:2\n",
      "Area of the triangle is:  1.7320508075688772\n"
     ]
    }
   ],
   "source": [
    "import math\n",
    "firstNumber = int(input('Enter length of one side:'))\n",
    "secondNumber = int(input('Enter length of second side:'))\n",
    "thirdNumber = int(input('Enter length of third side:'))\n",
    "\n",
    "def triangleArea(a,b,c):\n",
    "    s = (a+b+c)/2\n",
    "    area = math.sqrt(s*(s-a)*(s-b)*(s-c))\n",
    "    print('Area of the triangle is: ', area)\n",
    "    \n",
    "triangleArea(firstNumber, secondNumber, thirdNumber)\n",
    "\n"
   ]
  },
  {
   "cell_type": "markdown",
   "id": "eb3e09cb",
   "metadata": {},
   "source": [
    "Q.No.4\n",
    "Write a program in C# Sharp to separate odd and even integers in separate arrays.\n",
    "\n"
   ]
  },
  {
   "cell_type": "code",
   "execution_count": 9,
   "id": "d2795959",
   "metadata": {},
   "outputs": [
    {
     "name": "stdout",
     "output_type": "stream",
     "text": [
      "Enter the first element:1\n",
      "Enter the second element:2\n",
      "Enter the third element:3\n",
      "Enter the fourth element:4\n",
      "Enter the fifth element:5\n",
      "Even numbers are [2, 4]\n",
      "Odd nunmbers are [1, 3, 5]\n"
     ]
    }
   ],
   "source": [
    "firstElement = int(input('Enter the first element:'))\n",
    "secondElement = int(input('Enter the second element:'))\n",
    "thirdElement = int(input('Enter the third element:'))\n",
    "fourthElement = int(input('Enter the fourth element:'))\n",
    "fifthElement = int(input('Enter the fifth element:'))\n",
    "\n",
    "list = [firstElement, secondElement, thirdElement, fourthElement, fifthElement]\n",
    "listOfEven  = []\n",
    "listOfOdd = []\n",
    "\n",
    "for i in list:\n",
    "    if i%2==0:\n",
    "        listOfEven.append(i)\n",
    "    \n",
    "    else:\n",
    "        listOfOdd.append(i)\n",
    "        \n",
    "print('Even numbers are', listOfEven)\n",
    "print('Odd nunmbers are', listOfOdd)\n",
    "        "
   ]
  },
  {
   "cell_type": "markdown",
   "id": "f1802ac4",
   "metadata": {},
   "source": [
    "Q.No.5\n",
    "a. Write a function inside(x,y,x1,y1,x2,y2) that returns True or False\n",
    "depending on whether the point(x,y)lies in the rectangle with lower left\n",
    "corner (x1,y1) and upper right corner (x2,y2).\n",
    ">>> inside(1,1,0,0,2,3)\n",
    "True\n",
    ">>> inside(-1,-1,0,0,2,3)\n",
    "False"
   ]
  },
  {
   "cell_type": "code",
   "execution_count": null,
   "id": "740d457c",
   "metadata": {},
   "outputs": [],
   "source": [
    "x = int(input(\"Enter x: \"))\n",
    "y = int(input(\"Enter y: \"))\n",
    "x1 = int(input(\"Enter x1: \"))\n",
    "y1 = int(input(\"Enter y1: \"))\n",
    "x2 = int(input(\"Enter x2: \"))\n",
    "y2 = int(input(\"Enter y2: \"))\n",
    "\n",
    "def inside(x,y,x1,y1,x2,y2):\n",
    "    \n",
    "    if(x > x1 and x < x2) and (y > y1 and y < y2):\n",
    "        print('True')\n",
    "        \n",
    "    else:\n",
    "        print('False')\n",
    "        \n",
    "inside(x,y,x1,y1,x2,y2)"
   ]
  },
  {
   "cell_type": "markdown",
   "id": "59f80f01",
   "metadata": {},
   "source": [
    "Q.No.5\n",
    "b. Use function inside()from part a. to write an expression that tests whether\n",
    "the point (1,1) lies in both of the following rectangles: one with lower left\n",
    "corner (0.3, 0.5) and upper right corner (1.1, 0.7) and the other with lower\n",
    "left corner (0.5, 0.2) and upper right corner (1.1, 2)."
   ]
  },
  {
   "cell_type": "code",
   "execution_count": null,
   "id": "9b9f1bf7",
   "metadata": {},
   "outputs": [],
   "source": [
    "inside(1,1,0.3,0.5,1.1,0.7)\n"
   ]
  },
  {
   "cell_type": "code",
   "execution_count": null,
   "id": "35e9b76a",
   "metadata": {},
   "outputs": [],
   "source": [
    "inside(1,1,0.5,0.2,1.1,2)"
   ]
  },
  {
   "cell_type": "markdown",
   "id": "986b0cf2",
   "metadata": {},
   "source": [
    "Q.No.6\n",
    "You can turn a word into pig-Latin using the following two rules(simplified):\n",
    "• If the word starts with a consonant, move that letter to the end and append\n",
    "'ay'. For example, 'happy' becomes 'appyhay' and 'pencil' becomes 'encilpay'.\n",
    "• If the word starts with a vowel, simply append 'way' to the end of the word.\n",
    "For example, 'enter' becomes 'enterway' and 'other' becomes 'otherway' . For\n",
    "our purposes, there are 5 vowels: a, e, i, o, u (so we count y as a consonant).\n",
    "Write a function pig() that takes a word (i.e., a string) as input and returns its pigLatin form. Your function should still work if the input word contains upper case\n",
    "characters. Your output should always be lower case however.\n",
    ">>> pig('happy')\n",
    "'appyhay'\n",
    ">>> pig('Enter')\n",
    "'enterway'"
   ]
  },
  {
   "cell_type": "code",
   "execution_count": null,
   "id": "7035b684",
   "metadata": {},
   "outputs": [],
   "source": [
    "vowels = ['a','e','i','o','u']\n",
    "def pig():\n",
    "    string = input(\"Enter a word : \")\n",
    "    string = string.lower()\n",
    "    if string[0] in vowels:\n",
    "        string +=  'way'\n",
    "        print (string)\n",
    "    else:\n",
    "        result = string[1:]\n",
    "        result = result + string[0] + 'ay'\n",
    "        print(result)\n",
    "pig()"
   ]
  },
  {
   "cell_type": "markdown",
   "id": "7e5585bc",
   "metadata": {},
   "source": [
    "Q.No.7\n",
    "File bloodtype1.txt records blood-types of patients (A, B, AB, O or OO) at a clinic.\n",
    "Write a function bldcount() that reads the file with name name and reports (i.e.,\n",
    "prints) how many patients there are in each bloodtype.\n",
    ">>> bldcount('bloodtype.txt')\n",
    "There are 10 patients of blood type A.\n",
    "There is one patient of blood type B.\n",
    "There are 10 patients of blood type AB.\n",
    "There are 12 patients of blood type O.\n",
    "There are no patients of blood type OO."
   ]
  },
  {
   "cell_type": "code",
   "execution_count": null,
   "id": "787f6d12",
   "metadata": {},
   "outputs": [],
   "source": [
    "file = open(\"bloodtype1.txt\", \"r\")\n",
    "list = file.readlines() \n",
    "for i in list:\n",
    "    bloodType = i.split() \n",
    "    \n",
    "bloodA = bloodType.count('A')\n",
    "bloodB = bloodType.count('B')\n",
    "bloodAB = bloodType.count('AB')\n",
    "bloodO = bloodType.count('O')\n",
    "bloodOO = bloodType.count('OO')\n",
    "print(\"There are\" ,bloodA, \"patients of blood type A.\")\n",
    "print(\"There are\" ,bloodB, \"patients of blood type B.\")\n",
    "print(\"There are\" ,bloodAB, \"patients of blood type AB.\")\n",
    "print(\"There are\" ,bloodO, \"patients of blood type O.\")\n",
    "print(\"There are\" ,bloodOO, \"patients of blood type OO.\")\n"
   ]
  },
  {
   "cell_type": "markdown",
   "id": "6f4b4522",
   "metadata": {},
   "source": [
    "Q.No.8\n",
    "Write a function curconv() that takes as input:\n",
    "1. a currency represented using a string (e.g., 'JPY' for the Japanese Yen or\n",
    "'EUR' for the Euro)\n",
    "2. an amount\n",
    "and then converts and returns the amount in US dollars.\n",
    ">>> curconv('EUR', 100)\n",
    "122.96544\n",
    ">>> curconv('JPY', 100)\n",
    "1.241401\n",
    "The currency rates you will need are stored in file currencies.txt:\n",
    "AUD 1.0345157 Australian Dollar\n",
    "CHF 1.0237414 Swiss Franc\n",
    "CNY 0.1550176 Chinese Yuan\n",
    "BDAT 1004 – Data Programming\n",
    " S2022\n",
    "Page 5 of 6\n",
    "DKK 0.1651442 Danish Krone\n",
    "EUR 1.2296544 Euro\n",
    "GBP 1.5550989 British Pound\n",
    "HKD 0.1270207 Hong Kong Dollar\n",
    "INR 0.0177643 Indian Rupee\n",
    "JPY 0.01241401 Japanese Yen\n",
    "MXN 0.0751848 Mexican Peso\n",
    "MYR 0.3145411 Malaysian Ringgit\n",
    "NOK 0.1677063 Norwegian Krone\n",
    "NZD 0.8003591 New Zealand Dollar\n",
    "PHP 0.0233234 Philippine Peso\n",
    "SEK 0.148269 Swedish Krona\n",
    "SGD 0.788871 Singapore Dollar\n",
    "THB 0.0313789 Thai Baht\n"
   ]
  },
  {
   "cell_type": "code",
   "execution_count": null,
   "id": "831d7101",
   "metadata": {},
   "outputs": [],
   "source": [
    "def curconv(country, amt):\n",
    "    data=open(\"currency.txt\",\"r\")\n",
    "    f=data.readlines()\n",
    "    list1 = []\n",
    "    list2 = []\n",
    "    list3 = []\n",
    "    \n",
    "    for i in f:\n",
    "        j = 0\n",
    "        k = i.split('\\t')\n",
    "        for j in range(len(k)-2):\n",
    "            list1.append(k[j])\n",
    "            list2.append(float(k[j+1]))\n",
    "            list3.append(k[j+2].strip())\n",
    "    h = list1.index(country)\n",
    "    return amt*list2[h]\n",
    "curconv(\"EUR\",100)\n",
    "curconv(\"JPY\",100)\n",
    "\n",
    "    \n",
    "    "
   ]
  },
  {
   "cell_type": "markdown",
   "id": "3db6a5b1",
   "metadata": {},
   "source": [
    "Q.No.9\n",
    "Each of the following will cause an exception (an error). Identify what type of\n",
    "exception each will cause.\n",
    "Trying to add incompatible variables, as in\n",
    "a. adding 6 + ‘a’\n",
    "b. Referring to the 12th item of a list that has only 10 items\n",
    "c. Using a value that is out of range for a function’s input, such as calling math.sqrt(-1.0)\n",
    "d. Using an undeclared variable, such as print(x) when x has not been defined\n",
    "e. Trying to open a file that does not exist, such as mistyping"
   ]
  },
  {
   "cell_type": "code",
   "execution_count": null,
   "id": "9dd3850f",
   "metadata": {},
   "outputs": [],
   "source": [
    "6 + 'a'\n"
   ]
  },
  {
   "cell_type": "code",
   "execution_count": null,
   "id": "5924743c",
   "metadata": {},
   "outputs": [],
   "source": [
    "list = [1,2,3,4,5,6,7,8,9,10]\n",
    "\n",
    "show = list[12]\n",
    "print(show)"
   ]
  },
  {
   "cell_type": "code",
   "execution_count": null,
   "id": "d0136844",
   "metadata": {},
   "outputs": [],
   "source": [
    "import math\n",
    "math.sqrt(-1.0)\n"
   ]
  },
  {
   "cell_type": "code",
   "execution_count": null,
   "id": "33969bc2",
   "metadata": {},
   "outputs": [],
   "source": [
    "str = 'Data Programming'\n",
    "print(x)"
   ]
  },
  {
   "cell_type": "code",
   "execution_count": null,
   "id": "caaad214",
   "metadata": {},
   "outputs": [],
   "source": [
    "f = open(\"dataprogramming.txt\")"
   ]
  },
  {
   "cell_type": "markdown",
   "id": "5e7a1a0c",
   "metadata": {},
   "source": [
    "Q.No.10\n",
    "Encryption is the process of hiding the meaning of a text by substituting letters in the\n",
    "message with other letters, according to some system. If the process is successful, no\n",
    "one but the intended recipient can understand the encrypted message. Cryptanalysis\n",
    "refers to attempts to undo the encryption, even if some details of the encryption are\n",
    "unknown (for example, if an encrypted message has been intercepted). The first step\n",
    "of cryptanalysis is often to build up a table of letter frequencies in the encrypted text.\n",
    "Assume that the string letters is already defined as\n",
    "'abcdefghijklmnopqrstuvwxyz'. Write a function called frequencies()\n",
    "that takes a string as its only parameter, and returns a list of integers, showing the\n",
    "number of times each character appears in the text. Your function may ignore any\n",
    "characters that are not in letters.\n",
    ">>> frequencies('The quick red fox got bored and went home.')\n",
    "[1, 1, 1, 3, 5, 1, 1, 2, 1, 0, 1, 0, 1, 2, 4, 0, 1, 2, 0, 2,\n",
    "1, 0, 1, 1, 0, 0]\n",
    ">>> frequencies('apple')"
   ]
  },
  {
   "cell_type": "code",
   "execution_count": 1,
   "id": "ffa8edbe",
   "metadata": {},
   "outputs": [],
   "source": [
    "def frequencies(text):\n",
    "    \n",
    "    #set of alphabets\n",
    "    alphabets = ('a','b','c','d','e','f','g','h','i','j','k','l','m','n','o','p','q','r','s','t','u','v','w','x','y','z')\n",
    "    total_characters = []\n",
    "    alpha_dict = {}\n",
    "    #picking character from every word of input and appending it to total_character list.\n",
    "    for word in text:\n",
    "        for char in word:\n",
    "            if char.isalpha():\n",
    "                total_characters.append(char)\n",
    "    #checking if the alphabet is present in the total_character list than assigning it it's count otherwise 0\n",
    "    for char in alphabets:\n",
    "        if char in total_characters:\n",
    "            alpha_dict[char] = total_characters.count(char)\n",
    "        else:\n",
    "            alpha_dict[char] = 0\n",
    "            \n",
    "    #printing out the values(count) of the alphabets present in the total_character list\n",
    "    print(list(alpha_dict.values()))"
   ]
  },
  {
   "cell_type": "code",
   "execution_count": 2,
   "id": "66897744",
   "metadata": {},
   "outputs": [
    {
     "name": "stdout",
     "output_type": "stream",
     "text": [
      "[1, 1, 1, 3, 5, 1, 1, 2, 1, 0, 1, 0, 1, 2, 4, 0, 1, 2, 0, 2, 1, 0, 1, 1, 0, 0]\n"
     ]
    }
   ],
   "source": [
    "frequencies('The quick red fox got bored and went home.')"
   ]
  },
  {
   "cell_type": "code",
   "execution_count": 3,
   "id": "aa385244",
   "metadata": {},
   "outputs": [
    {
     "name": "stdout",
     "output_type": "stream",
     "text": [
      "[1, 0, 0, 0, 1, 0, 0, 0, 0, 0, 0, 1, 0, 0, 0, 2, 0, 0, 0, 0, 0, 0, 0, 0, 0, 0]\n"
     ]
    }
   ],
   "source": [
    "frequencies('apple')"
   ]
  },
  {
   "cell_type": "code",
   "execution_count": null,
   "id": "91059f76",
   "metadata": {},
   "outputs": [],
   "source": []
  }
 ],
 "metadata": {
  "kernelspec": {
   "display_name": "Python 3 (ipykernel)",
   "language": "python",
   "name": "python3"
  },
  "language_info": {
   "codemirror_mode": {
    "name": "ipython",
    "version": 3
   },
   "file_extension": ".py",
   "mimetype": "text/x-python",
   "name": "python",
   "nbconvert_exporter": "python",
   "pygments_lexer": "ipython3",
   "version": "3.9.12"
  }
 },
 "nbformat": 4,
 "nbformat_minor": 5
}
