{
 "cells": [
  {
   "cell_type": "code",
   "execution_count": null,
   "id": "f2ac30a2",
   "metadata": {},
   "outputs": [],
   "source": [
    "Q.No.1. What data type is each of the following?\n",
    "\n",
    " a. 5 => integer\n",
    " b. 5.0 => float\n",
    " c. 5>1 => bool\n",
    " d. \"5\" => string\n",
    " e. 5*2 => integer\n",
    " f. \"5\"*2 =>string\n",
    " g. \"5\" + \"2\" => string\n",
    " h. 5/2 => float\n",
    " i. 5%2 => integer\n",
    " j. {5,2,1} => array\n",
    " k. 5==3 => boolean\n",
    " l. pi(the number) => float\n"
   ]
  },
  {
   "cell_type": "markdown",
   "id": "22987f87",
   "metadata": {},
   "source": [
    "Q.No.2. Write (and evaluate) C# expressions that answer these questions: a. How many letters are there in 'Supercalifragilisticexpialidocious'?"
   ]
  },
  {
   "cell_type": "code",
   "execution_count": null,
   "id": "210dfa69",
   "metadata": {},
   "outputs": [],
   "source": [
    "string = 'Supercalifragilisticexpialidocious';\n",
    "length = len(string);\n",
    "print(\"There are\" ,length, \"letters in Supercalifragilisticexpialidocious.\")"
   ]
  },
  {
   "cell_type": "markdown",
   "id": "b0fb20f7",
   "metadata": {},
   "source": [
    "b.Does 'Supercalifragilisticexpialidocious' contain 'ice' as a substring?"
   ]
  },
  {
   "cell_type": "code",
   "execution_count": null,
   "id": "ff7c68fd",
   "metadata": {},
   "outputs": [],
   "source": [
    "string1 = 'Supercalifragilisticexpialidocious';\n",
    "if 'ice' in string1:\n",
    "    print(\"True\")\n",
    "else:\n",
    "    print(\"False\")"
   ]
  },
  {
   "cell_type": "markdown",
   "id": "1302b3c9",
   "metadata": {},
   "source": [
    "c. Which of the following words is the longest: Supercalifragilisticexpialidocious, Honorificabilitudinitatibus, or Bababadalgharaghtakamminarronnkonn?\n"
   ]
  },
  {
   "cell_type": "code",
   "execution_count": null,
   "id": "4cbbddc1",
   "metadata": {},
   "outputs": [],
   "source": [
    "string1 = 'Supercalifragilisticexpialidocious';\n",
    "string2 = 'Honorificabilitudinitatibus';\n",
    "string3 = 'Bababadalgharaghtakamminarronnkonn';\n",
    "if len(string1) >= len(string2) and len(string1) >=len(string3):\n",
    "    print('Supercalifragilisticexpialidocious is longest word')\n",
    "    \n",
    "elif len(string2) >= len(string1) and len(string2) >= len(string3):\n",
    "    print('Honorificabilitudinitatibus is longest word')\n",
    "    \n",
    "else:\n",
    "    print('Bababadalgharaghtakamminarronnkonn is longest word')"
   ]
  },
  {
   "cell_type": "markdown",
   "id": "b31a023f",
   "metadata": {},
   "source": [
    "d. Which composer comes first in the dictionary: 'Berlioz', 'Borodin', 'Brian', 'Bartok', 'Bellini', 'Buxtehude', 'Bernstein'. Which one comes last?"
   ]
  },
  {
   "cell_type": "code",
   "execution_count": null,
   "id": "e0974e0e",
   "metadata": {},
   "outputs": [],
   "source": [
    "composersDictionary = ['Berlioz', 'Borodin','Brian', 'Bartok', 'Bellini', 'Buxtehude', 'Bernstein']\n",
    "composersDictionary.sort() \n",
    "print(composersDictionary[0], \"comes first in the dictionary.\")\n",
    "print(composersDictionary[6], \"comes last in the dictionary.\")"
   ]
  },
  {
   "cell_type": "markdown",
   "id": "e3ca9109",
   "metadata": {},
   "source": [
    "Q.No.3 Implement function triangleArea(a,b,c) that takes as input the lengths of the 3 sides of a triangle and returns the area of the triangle. By Heron's formula, the area of a triangle with side lengths a, b, and c is s(s − a)(s −b)(s −c), where s = (a + b + c)/2."
   ]
  },
  {
   "cell_type": "code",
   "execution_count": null,
   "id": "cab44a9c",
   "metadata": {},
   "outputs": [],
   "source": [
    "import math\n",
    "firstNumber = int(input('Enter length of one side:'))\n",
    "secondNumber = int(input('Enter length of second side:'))\n",
    "thirdNumber = int(input('Enter length of third side:'))\n",
    "\n",
    "def triangleArea(a,b,c):\n",
    "    s = (a+b+c)/2\n",
    "    area = math.sqrt(s*(s-a)*(s-b)*(s-c))\n",
    "    print('Area of the triangle is: ', area)\n",
    "    \n",
    "triangleArea(firstNumber, secondNumber, thirdNumber)\n"
   ]
  },
  {
   "cell_type": "markdown",
   "id": "cda23b1a",
   "metadata": {},
   "source": [
    "Q.No.4 Write a program in C# Sharp to separate odd and even integers in separate arrays."
   ]
  },
  {
   "cell_type": "code",
   "execution_count": null,
   "id": "fbd75465",
   "metadata": {},
   "outputs": [],
   "source": [
    "firstElement = int(input('Enter the first element:'))\n",
    "secondElement = int(input('Enter the second element:'))\n",
    "thirdElement = int(input('Enter the third element:'))\n",
    "fourthElement = int(input('Enter the fourth element:'))\n",
    "fifthElement = int(input('Enter the fifth element:'))\n",
    "\n",
    "list = [firstElement, secondElement, thirdElement, fourthElement, fifthElement]\n",
    "listOfEven  = []\n",
    "listOfOdd = []\n",
    "\n",
    "for i in list:\n",
    "    if i%2==0:\n",
    "        listOfEven.append(i)\n",
    "    \n",
    "    else:\n",
    "        listOfOdd.append(i)\n",
    "        \n",
    "print('Even numbers are', listOfEven)\n",
    "print('Odd nunmbers are', listOfOdd)"
   ]
  },
  {
   "cell_type": "markdown",
   "id": "1829834b",
   "metadata": {},
   "source": [
    "Q.No.5 a. Write a function inside(x,y,x1,y1,x2,y2) that returns True or False depending on whether the point(x,y)lies in the rectangle with lower left corner (x1,y1) and upper right corner (x2,y2).\n",
    "\n",
    "inside(1,1,0,0,2,3) True inside(-1,-1,0,0,2,3) False"
   ]
  },
  {
   "cell_type": "code",
   "execution_count": null,
   "id": "1a5c571c",
   "metadata": {},
   "outputs": [],
   "source": [
    "x = int(input(\"Enter x: \"))\n",
    "y = int(input(\"Enter y: \"))\n",
    "x1 = int(input(\"Enter x1: \"))\n",
    "y1 = int(input(\"Enter y1: \"))\n",
    "x2 = int(input(\"Enter x2: \"))\n",
    "y2 = int(input(\"Enter y2: \"))\n",
    "\n",
    "def inside(x,y,x1,y1,x2,y2):\n",
    "    \n",
    "    if(x > x1 and x < x2) and (y > y1 and y < y2):\n",
    "        print('True')\n",
    "        \n",
    "    else:\n",
    "        print('False')\n",
    "        \n",
    "inside(x,y,x1,y1,x2,y2"
   ]
  },
  {
   "cell_type": "code",
   "execution_count": null,
   "id": "b3288dfe",
   "metadata": {},
   "outputs": [],
   "source": []
  }
 ],
 "metadata": {
  "kernelspec": {
   "display_name": ".NET (C#)",
   "language": "C#",
   "name": ".net-csharp"
  }
 },
 "nbformat": 4,
 "nbformat_minor": 5
}
